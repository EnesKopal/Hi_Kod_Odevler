{
 "cells": [
  {
   "cell_type": "markdown",
   "id": "409f0f4a",
   "metadata": {},
   "source": [
    "**Ödev-1:** Kullanıcıdan maaş bilgisini istenir ve bu bilgiye göre maaşından ne kadar vergi kesileceğini hesaplanır. Kullanıcının geliri;\n",
    "\n",
    "1. 10000 ve altındaysa maaşından %5 kesinti olur.\n",
    "2. 25000 ve altındaysa maaşından %10 kesinti olur.\n",
    "3. 45000 ve altındaysa maaşından %25 kesinti olur.\n",
    "4. Diğer koşullarda %30 kesinti olur.\n",
    "\n",
    "Bu durumlara göre kullanıcının yeni maaşı yazdırılır."
   ]
  },
  {
   "cell_type": "code",
   "execution_count": 2,
   "id": "5246e510",
   "metadata": {},
   "outputs": [
    {
     "name": "stdout",
     "output_type": "stream",
     "text": [
      "9500.0\n"
     ]
    }
   ],
   "source": [
    "maas=float(input(\"Maaşınızı giriniz\"))\n",
    "\n",
    "if maas <= 10000 :\n",
    "    maas=maas*0.95\n",
    "elif maas>10000 and maas<=25000:\n",
    "    mass=maas*0.9\n",
    "elif maas>25000 and maas<=45000:\n",
    "    maas=maas*0.75\n",
    "elif maas>45000:\n",
    "    maas=maas*0.7 \n",
    "print(maas)\n",
    "\n"
   ]
  },
  {
   "cell_type": "markdown",
   "id": "f5fe8798",
   "metadata": {},
   "source": [
    "**Ödev-2:** Kullanıcıdan kullanıcı adı ve şifre oluşturmasını istenir. Şifrenin uzunluğu altı haneye ulaşmışsa hesabınız oluşturuldu mesajı alınır, altı haneden azsa altı haneli şifre oluşturması gerektiğinin mesajı alınır. *(Sadece koşul kullanılması yeterli.)*"
   ]
  },
  {
   "cell_type": "code",
   "execution_count": 4,
   "id": "6acffe57",
   "metadata": {},
   "outputs": [
    {
     "name": "stdout",
     "output_type": "stream",
     "text": [
      "Sifreniz 6 karaktere eşit veya daha uzun olmalı\n"
     ]
    }
   ],
   "source": [
    "kulanici_adi=input(\"Kullanıcı adınızı giriniz\")\n",
    "sifre_kontrol=input(\"Şifrenizi giriniz\")\n",
    "sifre_uzunluk=len(sifre_kontrol)\n",
    "if sifre_uzunluk < 6 :\n",
    "    print(\"Sifreniz 6 karaktere eşit veya daha uzun olmalı\")\n",
    "else :\n",
    "    sifre=sifre_kontrol\n",
    "\n"
   ]
  },
  {
   "cell_type": "markdown",
   "id": "aaccf11a",
   "metadata": {},
   "source": [
    "**Ödev-3:** Bir önceki örnek geliştirilir.\n",
    "\n",
    "1. Kullanıcı girdiği şifre 5 ve 10 hane arasında olmak zorunda.\n",
    "2. Eğer bu koşula uyuyorsa \"Hesabınız oluşturuldu.\" mesajı alır.\n",
    "3. Koşulu sağlamıyorsa \"Lütfen girdiniz şifre 5 haneden az 10 haneden fazla olmasın!\" uyarısı alır.\n",
    "4. Bunu oluştururken kullanıcı istediğimiz şartlarda şifre oluşturana kadar sormaya devam eder"
   ]
  },
  {
   "cell_type": "code",
   "execution_count": 5,
   "id": "039e50dc",
   "metadata": {},
   "outputs": [
    {
     "name": "stdout",
     "output_type": "stream",
     "text": [
      "Lütfen girdiniz şifre 5 haneden az ve 10 haneden fazla olmasın!\n",
      "Hesabınız oluşturuldu.\n"
     ]
    }
   ],
   "source": [
    "kullanici_adi = input(\"Kullanıcı adınızı giriniz: \")\n",
    "\n",
    "while True:\n",
    "    sifre_kontrol = input(\"Şifrenizi giriniz (5-10 karakter arasında): \")\n",
    "    sifre_uzunluk = len(sifre_kontrol)\n",
    "    \n",
    "    if 5 <= sifre_uzunluk <= 10:\n",
    "        print(\"Hesabınız oluşturuldu.\")\n",
    "        sifre = sifre_kontrol \n",
    "        break\n",
    "    else:\n",
    "        print(\"Lütfen girdiniz şifre 5 haneden az ve 10 haneden fazla olmasın!\")\n",
    "            "
   ]
  },
  {
   "cell_type": "markdown",
   "id": "8ba81863",
   "metadata": {},
   "source": [
    "**Ödev-4:** Kullanıcıdan isim ve şifre isteyeceğiz ve şifre girişi için üç hak verilir.\n",
    "\n",
    "1. Eğer önceden tanımlı şifre ile kullanıcıdan gelen şifre aynıysa \"Giriş yapıldı.\" yazar.\n",
    "2. Şifre girişi yanlışsa \"Yanlış şifre girildi!\" uyarısı verilsin ve üç yanlış denemede program biter.\n",
    "3. Tercihe göre kalan hak bilgisi verilir."
   ]
  },
  {
   "cell_type": "code",
   "execution_count": 6,
   "id": "8f45ea0c",
   "metadata": {},
   "outputs": [
    {
     "name": "stdout",
     "output_type": "stream",
     "text": [
      "Yanlış şifre girdiniz! Kalan hakkınız: 2\n",
      "Yanlış şifre girdiniz! Kalan hakkınız: 1\n",
      "3 Kere şifre yanlış denendi prgram sonlandırılıyor\n"
     ]
    }
   ],
   "source": [
    "kullanici_adi = input(\"Kullanıcı adınızı giriniz: \")\n",
    "dogru_sifre=\"kopal\"\n",
    "hak=3\n",
    "\n",
    "\n",
    "while hak > 0:\n",
    "    sifre_kontrol = input(\"Şifrenizi giriniz (5-10 karakter arasında): \")\n",
    "    sifre_uzunluk = len(sifre_kontrol)\n",
    "    \n",
    "    if 5 <= sifre_uzunluk <= 10:\n",
    "        print(\"Hesabınız oluşturuldu.\")\n",
    "        sifre = sifre_kontrol \n",
    "        break\n",
    "    else:\n",
    "        hak-=1\n",
    "        if hak >0 :\n",
    "            print(f\"Yanlış şifre girdiniz! Kalan hakkınız: {hak}\")\n",
    "        else :\n",
    "            print(\"3 Kere şifre yanlış denendi prgram sonlandırılıyor\")\n",
    "            break\n",
    "            "
   ]
  }
 ],
 "metadata": {
  "kernelspec": {
   "display_name": "Python 3",
   "language": "python",
   "name": "python3"
  },
  "language_info": {
   "codemirror_mode": {
    "name": "ipython",
    "version": 3
   },
   "file_extension": ".py",
   "mimetype": "text/x-python",
   "name": "python",
   "nbconvert_exporter": "python",
   "pygments_lexer": "ipython3",
   "version": "3.12.3"
  }
 },
 "nbformat": 4,
 "nbformat_minor": 5
}
