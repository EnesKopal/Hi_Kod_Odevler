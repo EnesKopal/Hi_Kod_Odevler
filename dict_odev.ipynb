{
 "cells": [
  {
   "cell_type": "markdown",
   "metadata": {},
   "source": [
    "### Ödev 1\n",
    "\n",
    "Bir sözlük oluşturulur ve bu sözlükte öğrencilerin isimleri ve Matematik, Fizik, Kimya notları tutulur. Kullanıcıdan isim ve ders ismi(Matematik, Fizik, Kimya) istenir ve bu bilgilere göre çıktı verilir."
   ]
  },
  {
   "cell_type": "code",
   "execution_count": 5,
   "metadata": {},
   "outputs": [
    {
     "name": "stdout",
     "output_type": "stream",
     "text": [
      "Enes adlı öğrencinin Fizik notu: 100\n"
     ]
    }
   ],
   "source": [
    "ogrenci_dict={\n",
    "    \"Ahmet\": {\"Matematik\": 85, \"Kimya\": 80, \"Fizik\": 90},\n",
    "    \"Enes\": {\"Matematik\": 75, \"Kimya\": 90, \"Fizik\": 100},\n",
    "    \"Ramazan\": {\"Matematik\": 65, \"Kimya\": 70, \"Fizik\": 70},\n",
    "    \"Kayra\": {\"Matematik\": 90, \"Kimya\": 90, \"Fizik\": 90}\n",
    "}\n",
    "\n",
    "ogrenci_adi=input(\"Öğrenci adı giriniz: \")\n",
    "ders_adi=input(\" Ders adi giriniz ( Matematik, Fizik veya Kimya): \")\n",
    "\n",
    "if ogrenci_adi in ogrenci_dict:\n",
    "    dersler= ogrenci_dict[ogrenci_adi]\n",
    "\n",
    "    if ders_adi in dersler:\n",
    "        print(f\"{ogrenci_adi} adlı öğrencinin {ders_adi} notu: {dersler[ders_adi]}\")\n",
    "    else:\n",
    "        print(f\"{ogrenci_adi} adlı öğrencinin {ders_adi} notu bulunamadı\")\n",
    "else:\n",
    "    print(f\" {ogrenci_adi} adlı öğrenci sistemde kayıtlı değil\")"
   ]
  },
  {
   "cell_type": "markdown",
   "metadata": {},
   "source": [
    "### Ödev 2\n",
    "\n",
    "\n",
    "\n",
    "Sözlük üzerinde değerleri değiştirme, yeni değer ekleme, kullanıcıya ulaşmak istediği bilgileri sorma gibi uygulamalar yapın."
   ]
  },
  {
   "cell_type": "code",
   "execution_count": 1,
   "metadata": {},
   "outputs": [
    {
     "name": "stdout",
     "output_type": "stream",
     "text": [
      "\n",
      "Seçenekler:\n",
      "1. Yeni öğrenci ekle\n",
      "2. Not değiştir\n",
      "3. Belirli bir ders notunu görüntüle\n",
      "4. Çıkış\n"
     ]
    },
    {
     "ename": "KeyError",
     "evalue": "'Kenan'",
     "output_type": "error",
     "traceback": [
      "\u001b[0;31m---------------------------------------------------------------------------\u001b[0m",
      "\u001b[0;31mKeyError\u001b[0m                                  Traceback (most recent call last)",
      "Cell \u001b[0;32mIn[1], line 49\u001b[0m\n\u001b[1;32m     46\u001b[0m secim \u001b[38;5;241m=\u001b[39m \u001b[38;5;28minput\u001b[39m(\u001b[38;5;124m\"\u001b[39m\u001b[38;5;124mSeçiminizi yapınız: \u001b[39m\u001b[38;5;124m\"\u001b[39m)\n\u001b[1;32m     48\u001b[0m \u001b[38;5;28;01mif\u001b[39;00m secim \u001b[38;5;241m==\u001b[39m \u001b[38;5;124m\"\u001b[39m\u001b[38;5;124m1\u001b[39m\u001b[38;5;124m\"\u001b[39m:\n\u001b[0;32m---> 49\u001b[0m     \u001b[43mogrenci_ekle\u001b[49m\u001b[43m(\u001b[49m\u001b[43m)\u001b[49m\n\u001b[1;32m     50\u001b[0m \u001b[38;5;28;01melif\u001b[39;00m secim \u001b[38;5;241m==\u001b[39m \u001b[38;5;124m\"\u001b[39m\u001b[38;5;124m2\u001b[39m\u001b[38;5;124m\"\u001b[39m:\n\u001b[1;32m     51\u001b[0m     not_degistir()\n",
      "Cell \u001b[0;32mIn[1], line 12\u001b[0m, in \u001b[0;36mogrenci_ekle\u001b[0;34m()\u001b[0m\n\u001b[1;32m     10\u001b[0m ders\u001b[38;5;241m=\u001b[39m \u001b[38;5;28minput\u001b[39m(\u001b[38;5;124m\"\u001b[39m\u001b[38;5;124mDersin adını giriniz: \u001b[39m\u001b[38;5;124m\"\u001b[39m)\n\u001b[1;32m     11\u001b[0m notu\u001b[38;5;241m=\u001b[39m \u001b[38;5;28minput\u001b[39m(\u001b[38;5;124m\"\u001b[39m\u001b[38;5;124mDersin notunu giriniz: \u001b[39m\u001b[38;5;124m\"\u001b[39m)\n\u001b[0;32m---> 12\u001b[0m \u001b[43mogrenci_dict\u001b[49m\u001b[43m[\u001b[49m\u001b[43misim\u001b[49m\u001b[43m]\u001b[49m[ders]\u001b[38;5;241m=\u001b[39mnotu\n\u001b[1;32m     13\u001b[0m \u001b[38;5;28mprint\u001b[39m(\u001b[38;5;124mf\u001b[39m\u001b[38;5;124m\"\u001b[39m\u001b[38;5;132;01m{\u001b[39;00misim\u001b[38;5;132;01m}\u001b[39;00m\u001b[38;5;124m adlı öğrencinin \u001b[39m\u001b[38;5;132;01m{\u001b[39;00mders\u001b[38;5;132;01m}\u001b[39;00m\u001b[38;5;124m notu \u001b[39m\u001b[38;5;132;01m{\u001b[39;00mnotu\u001b[38;5;132;01m}\u001b[39;00m\u001b[38;5;124m olarak eklendi\u001b[39m\u001b[38;5;124m\"\u001b[39m)\n",
      "\u001b[0;31mKeyError\u001b[0m: 'Kenan'"
     ]
    }
   ],
   "source": [
    "ogrenci_dict={\n",
    "    \"Ahmet\": {\"Matematik\": 85, \"Kimya\": 80, \"Fizik\": 90},\n",
    "    \"Enes\": {\"Matematik\": 75, \"Kimya\": 90, \"Fizik\": 100},\n",
    "    \"Ramazan\": {\"Matematik\": 65, \"Kimya\": 70, \"Fizik\": 70},\n",
    "    \"Kayra\": {\"Matematik\": 90, \"Kimya\": 90, \"Fizik\": 90}\n",
    "}\n",
    "\n",
    "def ogrenci_ekle():\n",
    "    isim = input(\"Eklemek istediğiniz öğrencinin adını girin: \")\n",
    "    ders= input(\"Dersin adını giriniz: \")\n",
    "    notu= input(\"Dersin notunu giriniz: \")\n",
    "    ogrenci_dict[isim][ders]=notu\n",
    "    print(f\"{isim} adlı öğrencinin {ders} notu {notu} olarak eklendi\") \n",
    "\n",
    "\n",
    "def not_goruntule():\n",
    "    isim= input(\"Bilgilerini görmek istediğiniz öğrencinin ismini giriniz\")\n",
    "    if isim in ogrenci_dict:\n",
    "        ders= input(\"Hangi dersin notunu görmek istiyorsunuz\")\n",
    "        if ders in ogrenci_dict[isim]:\n",
    "            print(f\"{isim} adlı öğrencinin {ders} notu {ogrenci_dict[isim][ders]}\")\n",
    "        else:\n",
    "            print(f\"{isim} adlı öğrencinin {ders} notu bulunamadı.\")\n",
    "    else:\n",
    "            print(f\"{isim} adlı öğrencinin sistemde kayıtlı bulunamadı\")\n",
    "\n",
    "def not_degistir():\n",
    "    isim=input(\"Notunu değiştirmek istediğiniz öğrencinin ismini giriniz:\")\n",
    "    if isim in ogrenci_dict :\n",
    "        ders_adi= print(\"Notunu değiştirmek istediğiniz dersin adını giriniz: \")\n",
    "        if ders_adi in ogrenci_dict[ogrenci_adi]:\n",
    "            yeni_not= int(input(\"Notu giriniz: \"))\n",
    "            ogrenci_dict[isim][ders_adi]=yeni_not\n",
    "            print(f\"{isim} adlı öğrencinin {ders_adi} dersindeki yeni notu {yeni_not}\")\n",
    "        else: \n",
    "            print(\"İsmini girdiğiniz ders bulunamadı\")\n",
    "    else: \n",
    "            print(\"Öğrenci bulunamadı\")\n",
    "\n",
    "while True:\n",
    "    print(\"\\nSeçenekler:\")\n",
    "    print(\"1. Yeni öğrenci ekle\")\n",
    "    print(\"2. Not değiştir\")\n",
    "    print(\"3. Belirli bir ders notunu görüntüle\")\n",
    "    print(\"4. Çıkış\")\n",
    "    secim = input(\"Seçiminizi yapınız: \")\n",
    "\n",
    "    if secim == \"1\":\n",
    "        ogrenci_ekle()\n",
    "    elif secim == \"2\":\n",
    "        not_degistir()\n",
    "    elif secim == \"3\":\n",
    "        not_goruntule()\n",
    "    elif secim == \"4\":\n",
    "        print(\"Programdan çıkılıyor.\")\n",
    "        break\n",
    "    else:\n",
    "        print(\"Geçersiz bir seçim yaptınız.\")"
   ]
  }
 ],
 "metadata": {
  "kernelspec": {
   "display_name": "Python 3",
   "language": "python",
   "name": "python3"
  },
  "language_info": {
   "codemirror_mode": {
    "name": "ipython",
    "version": 3
   },
   "file_extension": ".py",
   "mimetype": "text/x-python",
   "name": "python",
   "nbconvert_exporter": "python",
   "pygments_lexer": "ipython3",
   "version": "3.12.3"
  }
 },
 "nbformat": 4,
 "nbformat_minor": 2
}
