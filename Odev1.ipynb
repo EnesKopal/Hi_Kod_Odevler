{
 "cells": [
  {
   "cell_type": "markdown",
   "id": "032d81b2",
   "metadata": {},
   "source": [
    "# 1\n",
    "x = 3 ----> floata çevirelim. Çevirdikten sonra beri tipinide yazdıralım.\n",
    "\n",
    "y = 4.5 -----> integere çevirelim. Çevirdikten sonra beri tipinide yazdıralım.\n",
    "\n",
    "z = \"8\" -----> integera çevirelim. Çevirdikten sonra beri tipinide yazdıralım.\n",
    "\n",
    "a = \"12\" -----> floata çevirelim. Çevirdikten sonra beri tipinide yazdıralım.\n",
    "\n",
    "b = \"46.8\" ------> integera çevirelim. Çevirdikten sonra beri tipinide yazdıralım."
   ]
  },
  {
   "cell_type": "code",
   "execution_count": 10,
   "id": "f1b735c0",
   "metadata": {},
   "outputs": [
    {
     "name": "stdout",
     "output_type": "stream",
     "text": [
      "<class 'float'>\n",
      "<class 'int'>\n",
      "<class 'int'>\n",
      "<class 'float'>\n",
      "<class 'int'>\n"
     ]
    }
   ],
   "source": [
    "x=3\n",
    "x_float=float(x)\n",
    "print(type(x_float))\n",
    "\n",
    "y=4.5\n",
    "y_int=int(y)\n",
    "print(type(y_int))\n",
    "\n",
    "z=\"8\"\n",
    "z_int=int(z)\n",
    "print(type(z_int))\n",
    "\n",
    "a=\"12\"\n",
    "a_float=float(a)\n",
    "print(type(a_float))\n",
    "\n",
    "b=46.8\n",
    "b_int=int(b)\n",
    "print(type(b_int))\n"
   ]
  },
  {
   "cell_type": "markdown",
   "id": "95509718",
   "metadata": {},
   "source": [
    "# 2 \n",
    "İsimlerden oluşan üç değişkene yaş değerleri atanır. Belirlenen üç değişken birbiriyle karşılaştırma operatörleri ile karşılaştırılır. Bu karşılaştırmalara mantıksal operatörler de eklenir."
   ]
  },
  {
   "cell_type": "code",
   "execution_count": 11,
   "id": "50f77b4f",
   "metadata": {},
   "outputs": [
    {
     "data": {
      "text/plain": [
       "True"
      ]
     },
     "execution_count": 11,
     "metadata": {},
     "output_type": "execute_result"
    }
   ],
   "source": [
    "enes=21\n",
    "ramo=20\n",
    "erva=17\n",
    "\n",
    "enes>ramo\n",
    "enes=erva\n",
    "erva<ramo"
   ]
  },
  {
   "cell_type": "markdown",
   "id": "a1a0eb92",
   "metadata": {},
   "source": [
    "# 3\n",
    "Kullanıcıdan iki değer girmesini istenir. Girilen değerlerin toplama, çıkarma, çarpma, bölme sonuçlarını yazdırılır."
   ]
  },
  {
   "cell_type": "code",
   "execution_count": 12,
   "id": "c361e45a",
   "metadata": {},
   "outputs": [
    {
     "name": "stdout",
     "output_type": "stream",
     "text": [
      "X + Y = 6.0\n",
      "X - Y = -2.0\n",
      "X / Y = 0.5\n",
      "X * Y = 8.0\n"
     ]
    }
   ],
   "source": [
    "x = float(input(\"X değerini giriniz: \"))\n",
    "y = float(input(\"Y değerini giriniz: \"))\n",
    "\n",
    "print(\"X + Y =\", x + y)  \n",
    "print(\"X - Y =\", x - y)  \n",
    "print(\"X / Y =\", x / y)  \n",
    "print(\"X * Y =\", x * y)  \n"
   ]
  },
  {
   "cell_type": "markdown",
   "id": "060b0bea",
   "metadata": {},
   "source": [
    "# 4\n",
    "Kullanıcıdan isim, yaş, şehir ve meslek bilgilerini istenir ve cevaplarını yazdırılır."
   ]
  },
  {
   "cell_type": "code",
   "execution_count": 13,
   "id": "6f5dea59",
   "metadata": {},
   "outputs": [
    {
     "name": "stdout",
     "output_type": "stream",
     "text": [
      "enes\n",
      "21\n",
      "sakarya\n",
      "pc\n"
     ]
    }
   ],
   "source": [
    "isim= input(\"İsminizi giriniz: \")\n",
    "yas= int(input(\"Yasinizi giriniz: \"))\n",
    "sehir= input(\"Sehrinizi giriniz: \")\n",
    "meslek=input(\"Mesleginizi giriniz\")\n",
    "\n",
    "print(isim)\n",
    "print(yas)\n",
    "print(sehir)\n",
    "print(meslek)"
   ]
  },
  {
   "cell_type": "markdown",
   "id": "55e1a34e",
   "metadata": {},
   "source": [
    "# 5\n",
    "\"Hi-Kod Veri Bilimi Atölyesi\" ifadesini bir değişkene tanımlanır.\n",
    "\n",
    "\n",
    " 1. İfadedeki her bir kelimeyi (\"Hi-Kod\", \"Veri\", \"Bilimi\", \"Atölyesi\") değişken içinden seçilir. \n",
    " 2. İfadeyi hepsini büyük harf olacak hale çevrilir. (\"HI-KOD VERİ BİLİMİ ATÖLYESİ\") \n",
    " 3. İfadeyi hepsini büyük harf olacak hale çevrilir.(\"hi-kod veri bilimi atölyesi\") \n",
    "\n",
    "\"0123456789\" ifadesindeki yalnızca çift sayıları ve yalnızca tek sayıları seçilir. (\"02468\", \"13579\")"
   ]
  },
  {
   "cell_type": "code",
   "execution_count": 14,
   "id": "0fc1bc40",
   "metadata": {},
   "outputs": [
    {
     "name": "stdout",
     "output_type": "stream",
     "text": [
      "['Hi-Kod', 'Veri', 'Bilimi', 'Atölyesi']\n",
      "HI-KOD VERI BILIMI ATÖLYESI\n",
      "hi-kod veri bilimi atölyesi\n",
      "02468\n",
      "13579\n"
     ]
    }
   ],
   "source": [
    "var=\"Hi-Kod Veri Bilimi Atölyesi\"\n",
    "kelimeler= var.split()\n",
    "print(kelimeler)\n",
    "var_buyuk=var.upper()\n",
    "print(var_buyuk)\n",
    "var_kucuk=var.lower()\n",
    "print(var_kucuk)\n",
    "\n",
    "sayi=\"0123456789\"\n",
    "cift_sayilar=sayi[::2]\n",
    "print(cift_sayilar)\n",
    "\n",
    "tek_sayilar=sayi[1::2]\n",
    "print(tek_sayilar)\n"
   ]
  }
 ],
 "metadata": {
  "kernelspec": {
   "display_name": "Python 3",
   "language": "python",
   "name": "python3"
  },
  "language_info": {
   "codemirror_mode": {
    "name": "ipython",
    "version": 3
   },
   "file_extension": ".py",
   "mimetype": "text/x-python",
   "name": "python",
   "nbconvert_exporter": "python",
   "pygments_lexer": "ipython3",
   "version": "3.12.3"
  }
 },
 "nbformat": 4,
 "nbformat_minor": 5
}
