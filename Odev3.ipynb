{
 "cells": [
  {
   "cell_type": "markdown",
   "metadata": {},
   "source": [
    "#### Ödev 1\n",
    "Kullanıcıdan pi değeri ve yarıçap bilgisi alarak dairenin alanını hesaplayan bir fonksiyon oluşturulur."
   ]
  },
  {
   "cell_type": "code",
   "execution_count": 1,
   "metadata": {},
   "outputs": [
    {
     "name": "stdout",
     "output_type": "stream",
     "text": [
      "48.0\n"
     ]
    }
   ],
   "source": [
    "def alanHesapla(pi,r):\n",
    "    alan= pi*r*r\n",
    "    print(alan)\n",
    "pi= float(input(\"Pi degerini giriniz : \"))\n",
    "yaricap= float(input(\"Yarıçapı giriniz \"))\n",
    "alanHesapla(pi,yaricap)\n"
   ]
  },
  {
   "cell_type": "markdown",
   "metadata": {},
   "source": [
    "#### Ödev 2\n",
    "\n",
    "Faktöriyel adında fonksiyon oluşturulur. Döngü kullanarak parametre olarak girilen sayının faktöriyeli hesaplanır. Format metodunu kullanılarak ekrana yazdırılır."
   ]
  },
  {
   "cell_type": "code",
   "execution_count": 2,
   "metadata": {},
   "outputs": [
    {
     "data": {
      "text/plain": [
       "6"
      ]
     },
     "execution_count": 2,
     "metadata": {},
     "output_type": "execute_result"
    }
   ],
   "source": [
    "def faktoriyel(n):\n",
    "     sonuc=1\n",
    "     for i in range(1,n+1):\n",
    "        sonuc*= i\n",
    "     return sonuc\n",
    "\n",
    "sayi= int(input(\"Faktoriyeli alınacak sayıyıyı giriniz :\"))\n",
    "faktoriyel(sayi)\n",
    "        "
   ]
  },
  {
   "cell_type": "markdown",
   "metadata": {},
   "source": [
    "#### Ödev 3\n",
    "Kişinin fonksiyona doğum yılını vererek kaç yaşında olduğunu hesaplayan bir fonksiyon oluşturun. "
   ]
  },
  {
   "cell_type": "code",
   "execution_count": 3,
   "metadata": {},
   "outputs": [
    {
     "name": "stdout",
     "output_type": "stream",
     "text": [
      "21\n"
     ]
    }
   ],
   "source": [
    "import datetime\n",
    "def dogumHesapla (n):\n",
    "        simdiki_tarih = datetime.datetime.now().year\n",
    "        yas=simdiki_tarih - n\n",
    "        return yas\n",
    "\n",
    "dogum_yili = int(input(\"Doğum yılınızı giriniz: \"))\n",
    "\n",
    "yas= dogumHesapla(dogum_yili)\n",
    "print(yas)"
   ]
  },
  {
   "cell_type": "markdown",
   "metadata": {},
   "source": [
    "#### Ödev 4\n",
    "\n",
    "Doğum yılı ve isim bilgisi verilen fonksiyon kişinin emekli olup olmadığını söylesin.(Kişi 65 yaşında ise emekli olur.) Burada yaş hesabını yukarıdaki örnekteki fonksiyonu kullanarak yapsın.(Yani fonksiyon içinde fonksiyon kullanmanızı istiyorum :)) Kişi 65 yaşında ya da daha fazlaysa \"Emekli oldunuz\" yanıtını, 65 yaşından küçükse emekliliğine kaç yıl kaldığını da hesaplayarak \"(isim) emekliliğine (yıl) kaldı.\" yanıtını versin."
   ]
  },
  {
   "cell_type": "code",
   "execution_count": 7,
   "metadata": {},
   "outputs": [
    {
     "name": "stdout",
     "output_type": "stream",
     "text": [
      "2003 emekliliğine  44 yıl kaldı\n"
     ]
    }
   ],
   "source": [
    "def emekliHesapla (n,isim):\n",
    "    simdiki_tarih= datetime.datetime.now().year\n",
    "    yas= simdiki_tarih - n\n",
    "\n",
    "    if yas > 65 :\n",
    "        print(\"Emekli oldunuz\")\n",
    "    else  :\n",
    "        kalan_yil=65-yas\n",
    "        print(f\"{isim} emekliliğine  {kalan_yil} yıl kaldı\")\n",
    "\n",
    "isim=input(\"İsminizi giriniz: \")\n",
    "yas= int(input(\"Doğum yılınızı giriniz: \"))\n",
    "\n",
    "emekliHesapla(yas,isim)\n"
   ]
  }
 ],
 "metadata": {
  "kernelspec": {
   "display_name": "Python 3",
   "language": "python",
   "name": "python3"
  },
  "language_info": {
   "codemirror_mode": {
    "name": "ipython",
    "version": 3
   },
   "file_extension": ".py",
   "mimetype": "text/x-python",
   "name": "python",
   "nbconvert_exporter": "python",
   "pygments_lexer": "ipython3",
   "version": "3.12.3"
  }
 },
 "nbformat": 4,
 "nbformat_minor": 2
}
